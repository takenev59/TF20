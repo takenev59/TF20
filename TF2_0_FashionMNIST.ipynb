{
  "nbformat": 4,
  "nbformat_minor": 0,
  "metadata": {
    "colab": {
      "name": "TF2.0_FashionMNIST.ipynb",
      "provenance": [],
      "collapsed_sections": [
        "eGJ4gCA4KYE4",
        "WghBPxMdKJXf",
        "Fn0_22SDP87a",
        "kKSnhhJWB70o"
      ],
      "include_colab_link": true
    },
    "kernelspec": {
      "name": "python3",
      "display_name": "Python 3"
    },
    "language_info": {
      "name": "python"
    },
    "accelerator": "GPU"
  },
  "cells": [
    {
      "cell_type": "markdown",
      "metadata": {
        "id": "view-in-github",
        "colab_type": "text"
      },
      "source": [
        "<a href=\"https://colab.research.google.com/github/takenev59/TF20/blob/main/TF2_0_FashionMNIST.ipynb\" target=\"_parent\"><img src=\"https://colab.research.google.com/assets/colab-badge.svg\" alt=\"Open In Colab\"/></a>"
      ]
    },
    {
      "cell_type": "markdown",
      "metadata": {
        "id": "WIZfMCH3Jegv"
      },
      "source": [
        "[![Open In Colab](https://colab.research.google.com/assets/colab-badge.svg)](https://colab.research.google.com/drive/1q71mw_g4Oldak1bah4GcM-gVNeiIAKGz?usp=sharing)"
      ]
    },
    {
      "cell_type": "markdown",
      "metadata": {
        "id": "eGJ4gCA4KYE4"
      },
      "source": [
        "## Loading and analysing Fashion MNIST dataset"
      ]
    },
    {
      "cell_type": "code",
      "metadata": {
        "id": "ap4L82SoIbWf",
        "colab": {
          "base_uri": "https://localhost:8080/"
        },
        "outputId": "07b1fcce-ff2f-40a5-9930-dd17b4d85b4b"
      },
      "source": [
        "import tensorflow as tf\n",
        "from tensorflow.keras import datasets, layers, models\n",
        "import numpy as np\n",
        "import matplotlib.pylab as plt\n",
        "\n",
        "(train_images, train_labels), (test_images, test_labels) = tf.keras.datasets.fashion_mnist.load_data()\n"
      ],
      "execution_count": 1,
      "outputs": [
        {
          "output_type": "stream",
          "name": "stdout",
          "text": [
            "Downloading data from https://storage.googleapis.com/tensorflow/tf-keras-datasets/train-labels-idx1-ubyte.gz\n",
            "32768/29515 [=================================] - 0s 0us/step\n",
            "40960/29515 [=========================================] - 0s 0us/step\n",
            "Downloading data from https://storage.googleapis.com/tensorflow/tf-keras-datasets/train-images-idx3-ubyte.gz\n",
            "26427392/26421880 [==============================] - 0s 0us/step\n",
            "26435584/26421880 [==============================] - 0s 0us/step\n",
            "Downloading data from https://storage.googleapis.com/tensorflow/tf-keras-datasets/t10k-labels-idx1-ubyte.gz\n",
            "16384/5148 [===============================================================================================] - 0s 0us/step\n",
            "Downloading data from https://storage.googleapis.com/tensorflow/tf-keras-datasets/t10k-images-idx3-ubyte.gz\n",
            "4423680/4422102 [==============================] - 0s 0us/step\n",
            "4431872/4422102 [==============================] - 0s 0us/step\n"
          ]
        }
      ]
    },
    {
      "cell_type": "markdown",
      "metadata": {
        "id": "MX5pwHNbBMrz"
      },
      "source": [
        "**Confirm type and dimensions of the dataset**"
      ]
    },
    {
      "cell_type": "code",
      "metadata": {
        "id": "ebSHfDgGIhQM",
        "colab": {
          "base_uri": "https://localhost:8080/"
        },
        "outputId": "6cd82b03-a36a-4208-d66d-65bfe732f9a5"
      },
      "source": [
        "type(train_images)"
      ],
      "execution_count": 2,
      "outputs": [
        {
          "output_type": "execute_result",
          "data": {
            "text/plain": [
              "numpy.ndarray"
            ]
          },
          "metadata": {},
          "execution_count": 2
        }
      ]
    },
    {
      "cell_type": "code",
      "metadata": {
        "id": "gqcWURO4Irbo",
        "colab": {
          "base_uri": "https://localhost:8080/"
        },
        "outputId": "9b1cbf28-8aa0-4418-b16e-b2ac8d57067c"
      },
      "source": [
        "train_images.shape"
      ],
      "execution_count": 3,
      "outputs": [
        {
          "output_type": "execute_result",
          "data": {
            "text/plain": [
              "(60000, 28, 28)"
            ]
          },
          "metadata": {},
          "execution_count": 3
        }
      ]
    },
    {
      "cell_type": "code",
      "metadata": {
        "id": "v2SUNvKrI2RP",
        "colab": {
          "base_uri": "https://localhost:8080/"
        },
        "outputId": "5ad73401-8504-4a78-d80b-d6d94778b8e5"
      },
      "source": [
        "test_images.shape"
      ],
      "execution_count": 5,
      "outputs": [
        {
          "output_type": "execute_result",
          "data": {
            "text/plain": [
              "(10000, 28, 28)"
            ]
          },
          "metadata": {},
          "execution_count": 5
        }
      ]
    },
    {
      "cell_type": "markdown",
      "metadata": {
        "id": "VGuQVbA1JTPM"
      },
      "source": [
        "**How many instances do we have of each of the different classes?**"
      ]
    },
    {
      "cell_type": "code",
      "metadata": {
        "id": "GGGcK9OGI4Rl",
        "colab": {
          "base_uri": "https://localhost:8080/"
        },
        "outputId": "bb84dc12-eac5-458c-e068-d4042da23d06"
      },
      "source": [
        "np.unique(train_labels, return_counts=True)"
      ],
      "execution_count": 8,
      "outputs": [
        {
          "output_type": "execute_result",
          "data": {
            "text/plain": [
              "(array([0, 1, 2, 3, 4, 5, 6, 7, 8, 9], dtype=uint8),\n",
              " array([6000, 6000, 6000, 6000, 6000, 6000, 6000, 6000, 6000, 6000]))"
            ]
          },
          "metadata": {},
          "execution_count": 8
        }
      ]
    },
    {
      "cell_type": "code",
      "metadata": {
        "id": "8CwOVTMuMSfu"
      },
      "source": [
        "class_names = ['T-shirt/top', 'Trouser', 'Pullover', 'Dress', 'Coat',\n",
        "               'Sandal', 'Shirt', 'Sneaker', 'Bag', 'Ankle boot']"
      ],
      "execution_count": 9,
      "outputs": []
    },
    {
      "cell_type": "markdown",
      "metadata": {
        "id": "WghBPxMdKJXf"
      },
      "source": [
        "## An overview of the images\n"
      ]
    },
    {
      "cell_type": "code",
      "metadata": {
        "id": "v83v_MQrJGPR",
        "colab": {
          "base_uri": "https://localhost:8080/"
        },
        "outputId": "bd6026e0-2c6b-4d60-aede-9c7120ab331e"
      },
      "source": [
        "# Get 16 images at random\n",
        "import random\n",
        "random.seed(1)\n",
        "train_idx = list(range(len(train_labels)))\n",
        "sampler = random.sample(train_idx, 16)\n",
        "sampler"
      ],
      "execution_count": 11,
      "outputs": [
        {
          "output_type": "execute_result",
          "data": {
            "text/plain": [
              "[8805,\n",
              " 37303,\n",
              " 55537,\n",
              " 52577,\n",
              " 50054,\n",
              " 4135,\n",
              " 16716,\n",
              " 7727,\n",
              " 32468,\n",
              " 49870,\n",
              " 29457,\n",
              " 30949,\n",
              " 42702,\n",
              " 24878,\n",
              " 51689,\n",
              " 13759]"
            ]
          },
          "metadata": {},
          "execution_count": 11
        }
      ]
    },
    {
      "cell_type": "code",
      "metadata": {
        "id": "ae5I_i2NLMYg",
        "colab": {
          "base_uri": "https://localhost:8080/",
          "height": 589
        },
        "outputId": "160df6af-b137-4488-a8ef-2c078f0a649d"
      },
      "source": [
        "plt.figure(figsize=(10, 10))\n",
        "for i in range(len(sampler)):\n",
        " plt.subplot(4,4,i+1)\n",
        " plt.xticks([])\n",
        " plt.yticks([])\n",
        " plt.grid(False)\n",
        " plt.imshow(train_images[sampler[i]], cmap=plt.cm.binary)\n",
        " plt.xlabel(class_names[train_labels[sampler[i]]])\n",
        "plt.show()\n"
      ],
      "execution_count": 12,
      "outputs": [
        {
          "output_type": "display_data",
          "data": {
            "image/png": "[encoded data removed]",
            "text/plain": [
              "<Figure size 720x720 with 16 Axes>"
            ]
          },
          "metadata": {}
        }
      ]
    },
    {
      "cell_type": "markdown",
      "metadata": {
        "id": "_oijYUBt__lh"
      },
      "source": [
        "**What does one image look like?**"
      ]
    },
    {
      "cell_type": "code",
      "metadata": {
        "id": "Q_y4upVPIe8_",
        "colab": {
          "base_uri": "https://localhost:8080/",
          "height": 265
        },
        "outputId": "b6d257fd-7b32-4510-8b8c-9c68c27cf8f4"
      },
      "source": [
        "random_image_id = 15000\n",
        "plt.figure()\n",
        "plt.imshow(train_images[random_image_id],cmap=plt.cm.binary)\n",
        "plt.colorbar()\n",
        "plt.grid(False)\n",
        "plt.show()"
      ],
      "execution_count": 13,
      "outputs": [
        {
          "output_type": "display_data",
          "data": {
            "image/png": "[encoded data removed]",
            "text/plain": [
              "<Figure size 432x288 with 2 Axes>"
            ]
          },
          "metadata": {
            "needs_background": "light"
          }
        }
      ]
    },
    {
      "cell_type": "code",
      "metadata": {
        "id": "21_hgve7-Dnr",
        "colab": {
          "base_uri": "https://localhost:8080/",
          "height": 35
        },
        "outputId": "1ee5cdac-5055-4199-9152-ce0ba1d5e1ea"
      },
      "source": [
        "class_names[train_labels[random_image_id]]"
      ],
      "execution_count": null,
      "outputs": [
        {
          "output_type": "execute_result",
          "data": {
            "application/vnd.google.colaboratory.intrinsic+json": {
              "type": "string"
            },
            "text/plain": [
              "'Pullover'"
            ]
          },
          "metadata": {},
          "execution_count": 12
        }
      ]
    },
    {
      "cell_type": "code",
      "metadata": {
        "id": "vw-zJYAf_Bjl",
        "colab": {
          "base_uri": "https://localhost:8080/"
        },
        "outputId": "7e385e2b-1b12-4336-bab6-46318ebc2c80"
      },
      "source": [
        "train_images[random_image_id]"
      ],
      "execution_count": 14,
      "outputs": [
        {
          "output_type": "execute_result",
          "data": {
            "text/plain": [
              "array([[  0,   0,   0,   0,   0,   0,   0,   2,   0,   0,   0,   0,   0,\n",
              "          0,   0,   0,   0,   0,   0,   0,   1,   0,   0,   0,   0,   0,\n",
              "          0,   0],\n",
              "       [  0,   0,   0,   0,   0,   0,   0,   0,   0,  17, 159, 210, 169,\n",
              "        135,  98, 128, 156, 197, 102,   0,   0,   0,   0,   0,   0,   0,\n",
              "          0,   0],\n",
              "       [  0,   0,   0,   0,   0,   0,   0,  84, 215, 239, 244, 247, 255,\n",
              "        224, 186, 255, 255, 251, 246, 220, 145,   0,   0,   0,   0,   0,\n",
              "          0,   0],\n",
              "       [  0,   0,   0,   0,   0,   0, 172, 252, 236, 225, 224, 224, 230,\n",
              "        240, 244, 242, 229, 224, 225, 233, 248, 205,   7,   0,   0,   0,\n",
              "          0,   0],\n",
              "       [  0,   0,   0,   0,   0,  67, 246, 218, 224, 227, 228, 230, 228,\n",
              "        228, 230, 225, 228, 231, 229, 227, 221, 238, 208,   0,   0,   0,\n",
              "          0,   0],\n",
              "       [  0,   0,   0,   0,   0, 168, 246, 225, 229, 229, 228, 227, 230,\n",
              "        228, 226, 227, 230, 225, 228, 228, 229, 221, 250, 114,   0,   0,\n",
              "          0,   0],\n",
              "       [  0,   0,   0,   0,   0, 188, 244, 229, 231, 230, 226, 226, 226,\n",
              "        225, 226, 226, 228, 227, 226, 228, 234, 228, 247, 161,   0,   0,\n",
              "          0,   0],\n",
              "       [  0,   0,   0,   0,   0, 220, 239, 233, 230, 226, 224, 224, 226,\n",
              "        226, 224, 225, 227, 227, 226, 228, 229, 229, 245, 172,   0,   0,\n",
              "          0,   0],\n",
              "       [  0,   0,   0,   0,   0, 239, 236, 239, 230, 226, 225, 225, 228,\n",
              "        229, 226, 227, 228, 227, 227, 226, 231, 235, 244, 198,   0,   0,\n",
              "          0,   0],\n",
              "       [  0,   0,   0,   0,   0, 255, 232, 251, 241, 227, 229, 228, 228,\n",
              "        228, 227, 228, 228, 231, 233, 227, 249, 240, 237, 232,   0,   0,\n",
              "          0,   0],\n",
              "       [  0,   0,   0,   0,  10, 255, 231, 251, 216, 234, 228, 228, 228,\n",
              "        228, 227, 228, 229, 229, 232, 227, 215, 249, 232, 254,   0,   0,\n",
              "          0,   0],\n",
              "       [  0,   0,   0,   0,  48, 255, 237, 237, 164, 248, 227, 228, 228,\n",
              "        228, 226, 228, 228, 232, 234, 231, 164, 255, 229, 255,   0,   0,\n",
              "          0,   0],\n",
              "       [  0,   0,   0,   0,  87, 255, 240, 234, 151, 250, 227, 228, 229,\n",
              "        230, 228, 229, 229, 228, 237, 231, 109, 255, 229, 255,  24,   0,\n",
              "          0,   0],\n",
              "       [  0,   0,   0,   0, 103, 254, 240, 233, 144, 253, 226, 228, 229,\n",
              "        230, 229, 229, 228, 231, 234, 235,  61, 255, 234, 255,  54,   0,\n",
              "          0,   0],\n",
              "       [  0,   0,   0,   0, 116, 254, 242, 230, 132, 254, 223, 228, 229,\n",
              "        230, 229, 229, 228, 230, 236, 236,  53, 255, 232, 242,  84,   0,\n",
              "          0,   0],\n",
              "       [  0,   0,   0,   0, 144, 253, 246, 227, 129, 254, 223, 229, 229,\n",
              "        230, 229, 229, 229, 229, 237, 238,  35, 255, 232, 255, 104,   0,\n",
              "          0,   0],\n",
              "       [  0,   0,   0,   0, 168, 247, 250, 216, 121, 255, 220, 230, 229,\n",
              "        229, 229, 229, 229, 226, 235, 254,   8, 255, 236, 255, 105,   0,\n",
              "          0,   0],\n",
              "       [  0,   0,   0,   0, 181, 241, 255, 199,  95, 255, 217, 231, 229,\n",
              "        229, 229, 229, 229, 227, 232, 255,   0, 245, 241, 254, 120,   0,\n",
              "          0,   0],\n",
              "       [  0,   0,   0,   0, 190, 234, 255, 201, 100, 255, 219, 230, 229,\n",
              "        229, 229, 229, 229, 227, 231, 255,   0, 229, 246, 238, 146,   0,\n",
              "          0,   0],\n",
              "       [  0,   0,   0,   0, 195, 233, 255, 152,  97, 255, 218, 231, 228,\n",
              "        228, 228, 228, 228, 227, 227, 255,   0, 190, 251, 234, 178,   0,\n",
              "          0,   0],\n",
              "       [  0,   0,   0,   0, 197, 228, 255,  68,  93, 255, 219, 231, 228,\n",
              "        228, 228, 228, 228, 228, 227, 255,   0, 144, 253, 232, 191,   0,\n",
              "          0,   0],\n",
              "       [  0,   0,   0,   0, 198, 221, 255,  42,  90, 255, 222, 232, 230,\n",
              "        229, 230, 229, 230, 227, 228, 255,   0, 100, 254, 228, 200,   0,\n",
              "          0,   0],\n",
              "       [  0,   0,   0,   0, 200, 227, 255,  17, 108, 246, 222, 226, 223,\n",
              "        223, 223, 223, 223, 226, 226, 255,   0,  77, 254, 228, 197,   0,\n",
              "          0,   0],\n",
              "       [  0,   0,   0,   0, 201, 231, 255,   0, 139, 254, 233, 236, 236,\n",
              "        237, 238, 238, 238, 238, 235, 255,   0,  41, 254, 229, 186,   0,\n",
              "          0,   0],\n",
              "       [  0,   0,   0,   0, 189, 234, 255,   0, 121, 255, 200, 203, 240,\n",
              "        239, 238, 238, 238, 201, 202, 255,   0,   0, 238, 234, 185,   0,\n",
              "          0,   0],\n",
              "       [  0,   0,   0,   0, 169, 243, 190,   0,   0,   0,   0,   0,   0,\n",
              "          0,   0,   0,   0,   0,   0,   0,   0,   0, 216, 240, 181,   0,\n",
              "          0,   0],\n",
              "       [  0,   0,   0,   0, 158, 255, 224,   0,   0,   0,   0,   0,   0,\n",
              "          0,   0,   0,   0,   0,   0,   0,   0,   0, 241, 255, 168,   0,\n",
              "          0,   0],\n",
              "       [  0,   0,   0,   0,   3,  51,  27,   0,   0,   1,   1,   1,   1,\n",
              "          1,   1,   1,   1,   1,   1,   1,   0,   0,  18,  53,   4,   0,\n",
              "          0,   0]], dtype=uint8)"
            ]
          },
          "metadata": {},
          "execution_count": 14
        }
      ]
    },
    {
      "cell_type": "markdown",
      "metadata": {
        "id": "Fn0_22SDP87a"
      },
      "source": [
        "## Build, compile and train the model"
      ]
    },
    {
      "cell_type": "code",
      "metadata": {
        "id": "pv-cMB5PAERF"
      },
      "source": [
        "(train_images, train_labels), (test_images, test_labels) = tf.keras.datasets.fashion_mnist.load_data()\n",
        "train_images = train_images / 255.0\n",
        "test_images = test_images / 255.0"
      ],
      "execution_count": 15,
      "outputs": []
    },
    {
      "cell_type": "code",
      "metadata": {
        "id": "p04Kd-_zKYpY",
        "colab": {
          "base_uri": "https://localhost:8080/",
          "height": 269
        },
        "outputId": "f420ac33-b710-4b7b-a261-b791047e841c"
      },
      "source": [
        "plt.figure()\n",
        "plt.imshow(train_images[8], cmap=plt.cm.binary)\n",
        "plt.colorbar()\n",
        "plt.grid(False)\n",
        "plt.show()"
      ],
      "execution_count": 16,
      "outputs": [
        {
          "output_type": "display_data",
          "data": {
            "image/png": "[encoded data removed]",
            "text/plain": [
              "<Figure size 432x288 with 2 Axes>"
            ]
          },
          "metadata": {
            "needs_background": "light"
          }
        }
      ]
    },
    {
      "cell_type": "code",
      "metadata": {
        "id": "4rb8bR7DMcGE",
        "colab": {
          "base_uri": "https://localhost:8080/"
        },
        "outputId": "b48d6a31-9a2c-4b5c-ac0e-a2a21a62178d"
      },
      "source": [
        "#build\n",
        "model = tf.keras.Sequential([\n",
        "  tf.keras.layers.Flatten(input_shape=(28, 28)),                           \n",
        "  tf.keras.layers.Dense(128, activation='relu'), \n",
        "  tf.keras.layers.Dense(64, activation='relu'),                              \n",
        "  tf.keras.layers.Dense(10),                             \n",
        "  ])\n",
        "#compile\n",
        "model.compile(optimizer='adam',\n",
        "              loss=tf.keras.losses.SparseCategoricalCrossentropy(from_logits=True),\n",
        "              metrics=['accuracy'])\n",
        "#train\n",
        "model.fit(train_images, train_labels, epochs=10, batch_size=64, validation_split=0.1)"
      ],
      "execution_count": 17,
      "outputs": [
        {
          "output_type": "stream",
          "name": "stdout",
          "text": [
            "Epoch 1/10\n",
            "844/844 [==============================] - 6s 4ms/step - loss: 0.5221 - accuracy: 0.8171 - val_loss: 0.4398 - val_accuracy: 0.8420\n",
            "Epoch 2/10\n",
            "844/844 [==============================] - 3s 3ms/step - loss: 0.3835 - accuracy: 0.8609 - val_loss: 0.3626 - val_accuracy: 0.8667\n",
            "Epoch 3/10\n",
            "844/844 [==============================] - 3s 3ms/step - loss: 0.3376 - accuracy: 0.8762 - val_loss: 0.3887 - val_accuracy: 0.8655\n",
            "Epoch 4/10\n",
            "844/844 [==============================] - 3s 3ms/step - loss: 0.3176 - accuracy: 0.8826 - val_loss: 0.3476 - val_accuracy: 0.8750\n",
            "Epoch 5/10\n",
            "844/844 [==============================] - 3s 3ms/step - loss: 0.2951 - accuracy: 0.8916 - val_loss: 0.3420 - val_accuracy: 0.8788\n",
            "Epoch 6/10\n",
            "844/844 [==============================] - 3s 3ms/step - loss: 0.2836 - accuracy: 0.8939 - val_loss: 0.3402 - val_accuracy: 0.8770\n",
            "Epoch 7/10\n",
            "844/844 [==============================] - 3s 3ms/step - loss: 0.2690 - accuracy: 0.9005 - val_loss: 0.3190 - val_accuracy: 0.8852\n",
            "Epoch 8/10\n",
            "844/844 [==============================] - 3s 3ms/step - loss: 0.2598 - accuracy: 0.9032 - val_loss: 0.3227 - val_accuracy: 0.8848\n",
            "Epoch 9/10\n",
            "844/844 [==============================] - 3s 3ms/step - loss: 0.2479 - accuracy: 0.9075 - val_loss: 0.3419 - val_accuracy: 0.8765\n",
            "Epoch 10/10\n",
            "844/844 [==============================] - 3s 3ms/step - loss: 0.2406 - accuracy: 0.9099 - val_loss: 0.3252 - val_accuracy: 0.8815\n"
          ]
        },
        {
          "output_type": "execute_result",
          "data": {
            "text/plain": [
              "<keras.callbacks.History at 0x7fa2d055bb50>"
            ]
          },
          "metadata": {},
          "execution_count": 17
        }
      ]
    },
    {
      "cell_type": "code",
      "metadata": {
        "id": "oY0TkxcuQoLo"
      },
      "source": [
        ""
      ],
      "execution_count": 17,
      "outputs": []
    },
    {
      "cell_type": "markdown",
      "metadata": {
        "id": "kKSnhhJWB70o"
      },
      "source": [
        "## Make predictions\n"
      ]
    },
    {
      "cell_type": "code",
      "metadata": {
        "id": "V3NZjub5VP1Z",
        "colab": {
          "base_uri": "https://localhost:8080/",
          "height": 258
        },
        "outputId": "eb3b7531-3572-4023-a484-437997622a83"
      },
      "source": [
        "image_id = 7654 # Pick an image id between 0 and 9999 inclusive\n",
        "\n",
        "probability_model = tf.keras.Sequential([model, tf.keras.layers.Softmax()])\n",
        "predictions = probability_model.predict(test_images)\n",
        "\n",
        "def plot_image(i, predictions_array, true_label, img):\n",
        "  true_label, img = true_label[i], img[i]\n",
        "  plt.grid(False)\n",
        "  plt.xticks([])\n",
        "  plt.yticks([])\n",
        "\n",
        "  plt.imshow(img, cmap=plt.cm.binary)\n",
        "\n",
        "  predicted_label = np.argmax(predictions_array)\n",
        "  if predicted_label == true_label:\n",
        "    color = 'green'\n",
        "  else:\n",
        "    color = 'red'\n",
        "\n",
        "  plt.xlabel(f\"{class_names[predicted_label]} {100*np.max(predictions_array):2.0f}% ({class_names[true_label]})\", color=color)\n",
        "\n",
        "def plot_value_array(i, predictions_array, true_label):\n",
        "  true_label = true_label[i]\n",
        "  plt.grid(False)\n",
        "  plt.xticks(range(10))\n",
        "  plt.yticks(range(10))\n",
        "  thisplot = plt.bar(range(10), predictions_array, color=\"#777777\")\n",
        "  plt.ylim([0, 1])\n",
        "  predicted_label = np.argmax(predictions_array)\n",
        "\n",
        "  thisplot[predicted_label].set_color('red')\n",
        "  thisplot[true_label].set_color('green')\n",
        "\n",
        "plt.figure(figsize=(6,3))\n",
        "plt.subplot(1,2,1)\n",
        "plot_image(image_id, predictions[image_id], test_labels, test_images)\n",
        "plt.subplot(1,2,2)\n",
        "plot_value_array(image_id, predictions[image_id],  test_labels)\n",
        "_ = plt.xticks(range(10), class_names, rotation=90)\n",
        "plt.show()"
      ],
      "execution_count": 23,
      "outputs": [
        {
          "output_type": "display_data",
          "data": {
            "image/png": "[encoded data removed]",
            "text/plain": [
              "<Figure size 432x216 with 2 Axes>"
            ]
          },
          "metadata": {
            "needs_background": "light"
          }
        }
      ]
    },
    {
      "cell_type": "code",
      "metadata": {
        "id": "sMQjenxHSgZL"
      },
      "source": [
        ""
      ],
      "execution_count": 18,
      "outputs": []
    }
  ]
}